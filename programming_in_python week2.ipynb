{
 "cells": [
  {
   "cell_type": "code",
   "execution_count": 2,
   "id": "8b86f857",
   "metadata": {},
   "outputs": [
    {
     "name": "stdout",
     "output_type": "stream",
     "text": [
      "tacit\n",
      "True\n"
     ]
    }
   ],
   "source": [
    "word = input()\n",
    "valid = False\n",
    "# both 'a' and 'z' are in lower case\n",
    "if 'a' <= word[0] <= 'z':\n",
    "    if word[0] == word[-1]:\n",
    "        valid = True\n",
    "print(valid)"
   ]
  },
  {
   "cell_type": "code",
   "execution_count": 7,
   "id": "881ca032",
   "metadata": {},
   "outputs": [
    {
     "name": "stdout",
     "output_type": "stream",
     "text": [
      "anantha krishnan\n",
      "2\n"
     ]
    }
   ],
   "source": [
    "sentence = input()\n",
    "space = ' ' # there is a single space between the quotes\n",
    "num_words = sentence.count(space) + 1\n",
    "print(num_words)"
   ]
  },
  {
   "cell_type": "code",
   "execution_count": 10,
   "id": "2ba0b1ca",
   "metadata": {},
   "outputs": [
    {
     "data": {
      "text/plain": [
       "'ANANTHU'"
      ]
     },
     "execution_count": 10,
     "metadata": {},
     "output_type": "execute_result"
    }
   ],
   "source": [
    "a='ANANTHU'\n",
    "a.upper()"
   ]
  },
  {
   "cell_type": "code",
   "execution_count": 26,
   "id": "6f737f44",
   "metadata": {},
   "outputs": [
    {
     "name": "stdout",
     "output_type": "stream",
     "text": [
      "ananth\n",
      "7\n",
      "4\n",
      "ant\n"
     ]
    }
   ],
   "source": [
    "a = input()\n",
    "if len(a)%2 ==0:\n",
    "    if a[-1] == '.':\n",
    "        a = a[:-1]\n",
    "    else:\n",
    "        a = a + '.'\n",
    "        \n",
    "l = len(a)\n",
    "print(l)\n",
    "mean = (l + 1)/2\n",
    "mean = int(mean)\n",
    "print(mean)\n",
    "final = a[mean-2:mean+1]\n",
    "print(final)"
   ]
  },
  {
   "cell_type": "code",
   "execution_count": null,
   "id": "c845889f",
   "metadata": {},
   "outputs": [],
   "source": [
    "a = input()\n",
    "b = input()\n",
    "c = input()\n",
    "d = input()\n",
    "e = input()\n",
    "if a in b:\n",
    "    if b in c:\n",
    "        if c in d:\n",
    "            if d in e:\n",
    "                print('magical')\n",
    "            else:\n",
    "                print('non-magical')\n",
    "        else:\n",
    "            print('non-magical')\n",
    "    else:\n",
    "        print('non-magical')\n",
    "else:\n",
    "    print('non-magical')"
   ]
  },
  {
   "cell_type": "code",
   "execution_count": 31,
   "id": "0c799490",
   "metadata": {},
   "outputs": [
    {
     "name": "stdout",
     "output_type": "stream",
     "text": [
      "sdcklwdwxc xzxac\n",
      "a\n"
     ]
    }
   ],
   "source": [
    "# CODE WITH ALGORITHM\n",
    "# Step-1: accept the text as input into a variable called string\n",
    "# Step-2: convert string to lower case; reassign the lower case version of text to string itself\n",
    "# Step-3: define a variable called vowels; initialise it to the empty string\n",
    "# Step-4: check if 'a' is in the variable string; if it is, concatenate 'a' to vowels at the end\n",
    "# Step-5: check if 'e' is in the variable string; if it is, concatenate 'e' to vowels at the end\n",
    "# Step-6: check if 'i' is in the variable string; if it is, concatenate 'i' to vowels at the end\n",
    "# Step-7: check if 'o' is in the variable string; if it is, concatenate 'o' to vowels at the end\n",
    "# Step-8: check if 'u' is in the variable string; if it is, concatenate 'u' to vowels at the end\n",
    "# Step-9: if vowels is empty, print 'none'\n",
    "# Step-10: if vowels is not empty, print vowels\n",
    "\n",
    "string = input().lower()\n",
    "vowels=''\n",
    "if 'a' in string:\n",
    "    vowels = vowels + 'a'\n",
    "if 'e' in string:\n",
    "    vowels = vowels + 'e'\n",
    "if 'i' in string:\n",
    "    vowels = vowels + 'i'\n",
    "if 'o' in string:\n",
    "    vowels = vowels + 'o'\n",
    "if 'u' in string:\n",
    "    vowels = vowels + 'u'\n",
    "if len(vowels) == 0:\n",
    "    print('none')\n",
    "else:\n",
    "    print(vowels)"
   ]
  },
  {
   "cell_type": "code",
   "execution_count": 33,
   "id": "43073aff",
   "metadata": {},
   "outputs": [
    {
     "name": "stdout",
     "output_type": "stream",
     "text": [
      "10\n",
      "9\n",
      "8\n",
      "7\n",
      "6\n",
      "5\n",
      "4\n",
      "3\n",
      "2\n"
     ]
    }
   ],
   "source": [
    "for i in range(10,1,-1):\n",
    "    print(i)"
   ]
  },
  {
   "cell_type": "code",
   "execution_count": 54,
   "id": "b7652f7d",
   "metadata": {
    "scrolled": true
   },
   "outputs": [
    {
     "name": "stdout",
     "output_type": "stream",
     "text": [
      "harsh\n",
      "18-01-2000\n",
      "sparsh\n",
      "18-03-2000\n"
     ]
    }
   ],
   "source": [
    "name1 = input().lower()\n",
    "dob1 = input()\n",
    "name2 = input().lower()\n",
    "dob2 = input()\n",
    "dob_1 = dob1.split('-')\n",
    "dob_2 = dob2.split('-')\n"
   ]
  },
  {
   "cell_type": "code",
   "execution_count": 55,
   "id": "d7e3b48d",
   "metadata": {},
   "outputs": [],
   "source": [
    "# Harsh\n",
    "# 18-01-2000\n",
    "# Sparsh\n",
    "# 18-03-2000\n",
    "\n",
    "# Sparsh\n",
    "\n",
    "# Harsh\\n"
   ]
  },
  {
   "cell_type": "code",
   "execution_count": 59,
   "id": "fd25c6a5",
   "metadata": {},
   "outputs": [
    {
     "name": "stdout",
     "output_type": "stream",
     "text": [
      "Harsh\n"
     ]
    }
   ],
   "source": [
    "if dob_1[-1] > dob_2[-1]:\n",
    "    younger = name1\n",
    "elif dob_1[-1] > dob_2[-1]:\n",
    "    younger = name2\n",
    "else:\n",
    "    if dob_1[-2] > dob_2[-2]:\n",
    "        younger = name1\n",
    "    elif dob_1[-2] > dob_2[-2]:\n",
    "        younger = name2\n",
    "    else:\n",
    "        if dob_1[-3] > dob_2[-3]:\n",
    "            younger = name1\n",
    "        elif dob_1[-3] > dob_2[-3]:\n",
    "            younger = name2\n",
    "        else:\n",
    "            if name1<name2:\n",
    "                younger = name1\n",
    "            else:\n",
    "                younger = name2\n",
    "print(younger.capitalize())\n",
    "        "
   ]
  },
  {
   "cell_type": "code",
   "execution_count": 66,
   "id": "7e5bf920",
   "metadata": {},
   "outputs": [
    {
     "name": "stdout",
     "output_type": "stream",
     "text": [
      "Sparsh\n"
     ]
    }
   ],
   "source": [
    "name1 = input().lower()\n",
    "dob1 = input()\n",
    "name2 = input().lower()\n",
    "dob2 = input()\n",
    "\n",
    "dob_1 = dob1.split('-')\n",
    "dob_2 = dob2.split('-')\n",
    "\n",
    "younger = ''\n",
    "# Corrected the range in the for loop to exclude +1, ensuring it iterates correctly through the indices.\n",
    "for i in range(1, len(dob_1)+1):  # Starting from 1 to properly utilize negative indexing\n",
    "    if dob_1[-i] > dob_2[-i]:\n",
    "        younger = name1  # Corrected to assign the correct name based on comparison\n",
    "        break\n",
    "    elif dob_2[-i] > dob_1[-i]:\n",
    "        younger = name2  # Corrected to assign the correct name based on comparison\n",
    "        break\n",
    "\n",
    "# Added handling for the case where both dates of birth are exactly the same\n",
    "if len(younger) == 0:\n",
    "    if name1 < name2:\n",
    "        younger = name1\n",
    "    else:\n",
    "        younger = name2\n",
    "\n",
    "print(younger.capitalize())\n"
   ]
  },
  {
   "cell_type": "code",
   "execution_count": 64,
   "id": "e77ad172",
   "metadata": {},
   "outputs": [
    {
     "name": "stdout",
     "output_type": "stream",
     "text": [
      "u\n",
      "h\n",
      "t\n",
      "n\n",
      "a\n",
      "n\n",
      "a\n"
     ]
    }
   ],
   "source": [
    "string='ananthu'\n",
    "for i in range(1,len(string)+1):\n",
    "    print(string[-i])"
   ]
  },
  {
   "cell_type": "code",
   "execution_count": 67,
   "id": "3980f2bf",
   "metadata": {},
   "outputs": [
    {
     "name": "stdout",
     "output_type": "stream",
     "text": [
      "'\n"
     ]
    }
   ],
   "source": [
    "print('\\'')"
   ]
  },
  {
   "cell_type": "code",
   "execution_count": 68,
   "id": "13092079",
   "metadata": {},
   "outputs": [
    {
     "name": "stdout",
     "output_type": "stream",
     "text": [
      "\\\n"
     ]
    }
   ],
   "source": [
    "print('\\\\')"
   ]
  },
  {
   "cell_type": "code",
   "execution_count": 70,
   "id": "a338ca50",
   "metadata": {},
   "outputs": [
    {
     "name": "stdout",
     "output_type": "stream",
     "text": [
      "\\\n"
     ]
    }
   ],
   "source": [
    "print('\\\\''')"
   ]
  },
  {
   "cell_type": "code",
   "execution_count": 71,
   "id": "895f6a8b",
   "metadata": {},
   "outputs": [
    {
     "name": "stdout",
     "output_type": "stream",
     "text": [
      "/\\='\"\n"
     ]
    }
   ],
   "source": [
    "print('/\\=\\'\"')"
   ]
  },
  {
   "cell_type": "code",
   "execution_count": null,
   "id": "952dcad4",
   "metadata": {},
   "outputs": [],
   "source": []
  }
 ],
 "metadata": {
  "kernelspec": {
   "display_name": "Python 3 (ipykernel)",
   "language": "python",
   "name": "python3"
  },
  "language_info": {
   "codemirror_mode": {
    "name": "ipython",
    "version": 3
   },
   "file_extension": ".py",
   "mimetype": "text/x-python",
   "name": "python",
   "nbconvert_exporter": "python",
   "pygments_lexer": "ipython3",
   "version": "3.11.5"
  }
 },
 "nbformat": 4,
 "nbformat_minor": 5
}
