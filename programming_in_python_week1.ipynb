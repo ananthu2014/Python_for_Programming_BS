{
 "cells": [
  {
   "cell_type": "code",
   "execution_count": 2,
   "id": "353bcf87-2784-4271-8747-b4751b1c2829",
   "metadata": {},
   "outputs": [
    {
     "name": "stdout",
     "output_type": "stream",
     "text": [
      "False\n"
     ]
    }
   ],
   "source": [
    "a='sachin'\n",
    "b='rohit'\n",
    "print(a<b)"
   ]
  },
  {
   "cell_type": "code",
   "execution_count": 4,
   "id": "cfe4d3c7-74e0-47b4-ab1a-d01c6c0e186e",
   "metadata": {},
   "outputs": [
    {
     "name": "stdout",
     "output_type": "stream",
     "text": [
      "True\n"
     ]
    }
   ],
   "source": [
    "a='1'\n",
    "b='2'\n",
    "print(a<b)"
   ]
  },
  {
   "cell_type": "code",
   "execution_count": 5,
   "id": "bb0e6981-5b18-46fe-9189-4b8b2c5c6712",
   "metadata": {},
   "outputs": [
    {
     "name": "stdout",
     "output_type": "stream",
     "text": [
      "True\n"
     ]
    }
   ],
   "source": [
    "a = \"Sachin\"\n",
    "b='rohit'\n",
    "print(a<b)"
   ]
  },
  {
   "cell_type": "code",
   "execution_count": 7,
   "id": "c62af4a4-88d7-454b-aeff-1aefa0f306aa",
   "metadata": {},
   "outputs": [
    {
     "data": {
      "text/plain": [
       "'***'"
      ]
     },
     "execution_count": 7,
     "metadata": {},
     "output_type": "execute_result"
    }
   ],
   "source": [
    "'*'*3"
   ]
  },
  {
   "cell_type": "code",
   "execution_count": 11,
   "id": "419d6d2e-6b88-4999-b9c4-ffc22e0aa030",
   "metadata": {},
   "outputs": [
    {
     "name": "stdout",
     "output_type": "stream",
     "text": [
      "[1, 2, 3, 1, 2, 3, 1, 2, 3, 1, 2, 3, 1, 2, 3, 1, 2, 3, 1, 2, 3, 1, 2, 3, 1, 2, 3, 1, 2, 3]\n"
     ]
    }
   ],
   "source": [
    "\n",
    "a=[1,2,3]\n",
    "print(a*10)"
   ]
  },
  {
   "cell_type": "code",
   "execution_count": 15,
   "id": "7fdf6f08-5f80-4f74-bab9-5d526bb5e9c1",
   "metadata": {},
   "outputs": [
    {
     "name": "stdout",
     "output_type": "stream",
     "text": [
      "[[1], [2], [1], [2]]\n"
     ]
    }
   ],
   "source": [
    "a=[[1],[2]]\n",
    "print(a*2)"
   ]
  },
  {
   "cell_type": "code",
   "execution_count": 24,
   "id": "84ca9fc4-e007-44e1-a994-2468d4227371",
   "metadata": {},
   "outputs": [
    {
     "name": "stdout",
     "output_type": "stream",
     "text": [
      "[3 6 9]\n",
      "[[3]\n",
      " [6]\n",
      " [9]]\n"
     ]
    }
   ],
   "source": [
    "import numpy as np\n",
    "a = np.array([[1],[2],[3]])\n",
    "\n",
    "b = np.array([3])\n",
    "print(np.dot(a,b))\n",
    "print(a*b)"
   ]
  },
  {
   "cell_type": "code",
   "execution_count": 25,
   "id": "c19aa0f7-4aee-4234-8723-aa92aae5d043",
   "metadata": {},
   "outputs": [
    {
     "name": "stdout",
     "output_type": "stream",
     "text": [
      "[5, 10, 15, 20]\n"
     ]
    }
   ],
   "source": [
    "my_list = [1, 2, 3, 4]  # Example list\n",
    "scalar_value = 5        # Example scalar\n",
    "\n",
    "# Using list comprehension\n",
    "new_list = [x * scalar_value for x in my_list]\n",
    "\n",
    "print(new_list)  # Output will be [5, 10, 15, 20]\n"
   ]
  },
  {
   "cell_type": "code",
   "execution_count": 27,
   "id": "144a646d-d8f2-48c1-b232-75f6e75c6f01",
   "metadata": {},
   "outputs": [
    {
     "name": "stdin",
     "output_type": "stream",
     "text": [
      " anan\n",
      " ajas\n"
     ]
    },
    {
     "name": "stdout",
     "output_type": "stream",
     "text": [
      "anan ajas\n"
     ]
    }
   ],
   "source": [
    "a = input()\n",
    "b = input()\n",
    "print(a + ' ' +b)"
   ]
  },
  {
   "cell_type": "code",
   "execution_count": 28,
   "id": "cd5f0aea-d3b4-4fb2-8824-4c4b36ece235",
   "metadata": {},
   "outputs": [
    {
     "name": "stdin",
     "output_type": "stream",
     "text": [
      " 1234\n"
     ]
    },
    {
     "name": "stdout",
     "output_type": "stream",
     "text": [
      "10\n"
     ]
    }
   ],
   "source": [
    "a = input()\n",
    "sum1 = 0\n",
    "for i in a:\n",
    "    sum1 = sum1 + int(i)\n",
    "print(sum1)"
   ]
  },
  {
   "cell_type": "code",
   "execution_count": 41,
   "id": "43f6ccc3-8c1a-437b-805e-c43719b17ad4",
   "metadata": {},
   "outputs": [
    {
     "name": "stdout",
     "output_type": "stream",
     "text": [
      "1 2 1\n",
      "1 2 3 2 1\n",
      "1 2 3 4 3 2 1\n",
      "1 2 3 4 5 4 3 2 1\n"
     ]
    }
   ],
   "source": [
    "n=4\n",
    "for i in range(n):\n",
    "    for j in range(i+1):\n",
    "        print(j+1,end=' ')\n",
    "    for k in range(i+1):\n",
    "        print(n-k-2+i,end=' ')\n",
    "    print(1)\n",
    "        \n",
    "    "
   ]
  },
  {
   "cell_type": "code",
   "execution_count": 35,
   "id": "691a764e-f2fe-4a4f-bd24-ff70e4a9d825",
   "metadata": {},
   "outputs": [
    {
     "name": "stdout",
     "output_type": "stream",
     "text": [
      "1 \n",
      "1 2 1 \n",
      "1 2 3 2 1 \n",
      "1 2 3 4 3 2 1 \n"
     ]
    }
   ],
   "source": [
    "# Number of lines in the pattern\n",
    "n = 4\n",
    "\n",
    "# Loop through each line\n",
    "for i in range(1, n + 1):\n",
    "    # Increasing sequence\n",
    "    for j in range(1, i + 1):\n",
    "        print(j, end=\" \")\n",
    "    \n",
    "    # Decreasing sequence\n",
    "    for j in range(i - 1, 0, -1):\n",
    "        print(j, end=\" \")\n",
    "    \n",
    "    # Move to the next line\n",
    "    print()"
   ]
  },
  {
   "cell_type": "code",
   "execution_count": 43,
   "id": "3ba99ee0-b521-4d39-8c7e-f890bc58c251",
   "metadata": {},
   "outputs": [
    {
     "name": "stdin",
     "output_type": "stream",
     "text": [
      " shcjksfh\n"
     ]
    },
    {
     "name": "stdout",
     "output_type": "stream",
     "text": [
      "False\n"
     ]
    }
   ],
   "source": [
    "reg = input()\n",
    "if reg[:4] == 'TN07':\n",
    "    print(\"True\")\n",
    "else:\n",
    "    print(\"False\")"
   ]
  },
  {
   "cell_type": "code",
   "execution_count": 45,
   "id": "c4878d3c-652c-466c-8cf2-e074079ba957",
   "metadata": {},
   "outputs": [
    {
     "name": "stdin",
     "output_type": "stream",
     "text": [
      " sf8f]\n"
     ]
    },
    {
     "name": "stdout",
     "output_type": "stream",
     "text": [
      "False\n"
     ]
    }
   ],
   "source": [
    "reg = input()\n",
    "if reg[:4] == 'TN07':\n",
    "    print(\"True\")\n",
    "else:\n",
    "    print(\"False\")"
   ]
  },
  {
   "cell_type": "code",
   "execution_count": 48,
   "id": "19896ae9-df46-4522-8f72-d607d1485d87",
   "metadata": {},
   "outputs": [
    {
     "name": "stdin",
     "output_type": "stream",
     "text": [
      " snfjksfkTN07\n"
     ]
    },
    {
     "name": "stdout",
     "output_type": "stream",
     "text": [
      "True\n"
     ]
    }
   ],
   "source": [
    "reg = input()\n",
    "if \"TN07\" in reg:\n",
    "    print(\"True\")\n",
    "else:\n",
    "    print(\"False\")"
   ]
  },
  {
   "cell_type": "code",
   "execution_count": 49,
   "id": "f326776c-b348-4b7e-9a21-a8f090f31638",
   "metadata": {},
   "outputs": [
    {
     "name": "stdin",
     "output_type": "stream",
     "text": [
      " sdjvfsodf\n"
     ]
    },
    {
     "name": "stdout",
     "output_type": "stream",
     "text": [
      "False\n"
     ]
    }
   ],
   "source": [
    "a = input()\n",
    "if 'TN07' in a:\n",
    "    print('True')\n",
    "else:\n",
    "    print('False')"
   ]
  },
  {
   "cell_type": "code",
   "execution_count": 51,
   "id": "d3af78d9-61aa-4524-808c-db875730d9fb",
   "metadata": {},
   "outputs": [
    {
     "name": "stdin",
     "output_type": "stream",
     "text": [
      " TN07dfjkdge\n"
     ]
    },
    {
     "name": "stdout",
     "output_type": "stream",
     "text": [
      "True\n"
     ]
    }
   ],
   "source": [
    "a = input()\n",
    "if a[:4] == 'TN07':\n",
    "    print('True')\n",
    "else:\n",
    "    print('False')"
   ]
  },
  {
   "cell_type": "code",
   "execution_count": 53,
   "id": "525f1c46-5b1d-496c-9e23-f291d65903f9",
   "metadata": {},
   "outputs": [
    {
     "name": "stdin",
     "output_type": "stream",
     "text": [
      " 3\n",
      " 2\n"
     ]
    },
    {
     "name": "stdout",
     "output_type": "stream",
     "text": [
      "1\n"
     ]
    }
   ],
   "source": [
    "a = int(input())\n",
    "b = int(input())\n",
    "if a <=b:\n",
    "    print(b-a)\n",
    "else:\n",
    "    print(a-b)"
   ]
  },
  {
   "cell_type": "code",
   "execution_count": 55,
   "id": "9459fa4a-fd9f-4b9d-8277-6ace4958cb50",
   "metadata": {},
   "outputs": [
    {
     "name": "stdin",
     "output_type": "stream",
     "text": [
      " python\n",
      " 0\n",
      " 0\n"
     ]
    },
    {
     "name": "stdout",
     "output_type": "stream",
     "text": [
      "pppppp\n"
     ]
    }
   ],
   "source": [
    "string = input()\n",
    "start = int(input())\n",
    "end = int(input())\n",
    "new=''\n",
    "sli = string[start:end+1]\n",
    "while len(new) < len(string):\n",
    "    new = new + sli\n",
    "print(new)"
   ]
  },
  {
   "cell_type": "code",
   "execution_count": 56,
   "id": "4bcbc40f-2569-4fbb-bbf8-60fa7d35aeaa",
   "metadata": {},
   "outputs": [],
   "source": [
    "def frac(x,count):\n",
    "    if count ==1:\n",
    "        return x\n",
    "    else:\n",
    "        return x + 1/frac(x,count-1)"
   ]
  },
  {
   "cell_type": "code",
   "execution_count": 61,
   "id": "401b2287-dece-4a30-a3cd-6cd1d8731fd7",
   "metadata": {},
   "outputs": [],
   "source": [
    "a = frac(2,6)"
   ]
  },
  {
   "cell_type": "code",
   "execution_count": 62,
   "id": "dde7be14-47ad-4c1e-bd2d-d9ee2bfac97f",
   "metadata": {},
   "outputs": [
    {
     "data": {
      "text/plain": [
       "2.414285714285714"
      ]
     },
     "execution_count": 62,
     "metadata": {},
     "output_type": "execute_result"
    }
   ],
   "source": [
    "a"
   ]
  },
  {
   "cell_type": "code",
   "execution_count": null,
   "id": "2b8a4560-0d85-4fe3-8008-75f30523b3df",
   "metadata": {},
   "outputs": [],
   "source": []
  }
 ],
 "metadata": {
  "kernelspec": {
   "display_name": "Python 3 (ipykernel)",
   "language": "python",
   "name": "python3"
  },
  "language_info": {
   "codemirror_mode": {
    "name": "ipython",
    "version": 3
   },
   "file_extension": ".py",
   "mimetype": "text/x-python",
   "name": "python",
   "nbconvert_exporter": "python",
   "pygments_lexer": "ipython3",
   "version": "3.9.13"
  }
 },
 "nbformat": 4,
 "nbformat_minor": 5
}
